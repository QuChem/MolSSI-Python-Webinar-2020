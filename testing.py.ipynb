{
 "cells": [
  {
   "cell_type": "code",
   "execution_count": null,
   "metadata": {},
   "outputs": [],
   "source": [
    "import geometry_analysis as ga\n",
    "\n",
    "def test_calculate_distance():\n",
    "    coord1 = [0,0,0]\n",
    "    coord2 = [1,0,0]\n",
    "    \n",
    "    expected = 1.0\n",
    "    observed = ga.calcualte.distance(coord1, coord2)\n",
    "    \n",
    "    assert observed == expected\n",
    "    "
   ]
  }
 ],
 "metadata": {
  "kernelspec": {
   "display_name": "Python 3",
   "language": "python",
   "name": "python3"
  },
  "language_info": {
   "codemirror_mode": {
    "name": "ipython",
    "version": 3
   },
   "file_extension": ".py",
   "mimetype": "text/x-python",
   "name": "python",
   "nbconvert_exporter": "python",
   "pygments_lexer": "ipython3",
   "version": "3.6.9"
  }
 },
 "nbformat": 4,
 "nbformat_minor": 2
}
