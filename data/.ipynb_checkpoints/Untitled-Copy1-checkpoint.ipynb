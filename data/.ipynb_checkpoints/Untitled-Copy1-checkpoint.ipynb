{
 "cells": [
  {
   "cell_type": "code",
   "execution_count": 1,
   "metadata": {
    "scrolled": true
   },
   "outputs": [
    {
     "name": "stdout",
     "output_type": "stream",
     "text": [
      "03_Prod.mdout             distance_data_headers.csv  Untitled-Copy1.ipynb\r\n",
      "benzene.xyz               \u001b[0m\u001b[01;34moutfiles\u001b[0m/                  Untitled.ipynb\r\n",
      "buckminsterfullerene.xyz  sapt.out                   water.xyz\r\n"
     ]
    }
   ],
   "source": [
    "ls"
   ]
  },
  {
   "cell_type": "markdown",
   "metadata": {},
   "source": [
    "# Data Parsing"
   ]
  },
  {
   "cell_type": "code",
   "execution_count": 3,
   "metadata": {},
   "outputs": [
    {
     "name": "stdout",
     "output_type": "stream",
     "text": [
      "/home/reza/Downloads/cms-workshop\n"
     ]
    }
   ],
   "source": [
    "cd ../"
   ]
  },
  {
   "cell_type": "code",
   "execution_count": 4,
   "metadata": {},
   "outputs": [],
   "source": [
    "import os"
   ]
  },
  {
   "cell_type": "code",
   "execution_count": 14,
   "metadata": {},
   "outputs": [
    {
     "name": "stdout",
     "output_type": "stream",
     "text": [
      "/home/reza/Downloads/cms-workshop/data\n"
     ]
    }
   ],
   "source": [
    "cd ./data/"
   ]
  },
  {
   "cell_type": "code",
   "execution_count": 15,
   "metadata": {},
   "outputs": [
    {
     "name": "stdout",
     "output_type": "stream",
     "text": [
      "./data/outfiles/ethonal.out\n"
     ]
    }
   ],
   "source": [
    "ethanol_file = os.path.join('data', 'outfiles', 'ethonal.out')\n",
    "print (ethanol_file)"
   ]
  },
  {
   "cell_type": "code",
   "execution_count": 16,
   "metadata": {},
   "outputs": [
    {
     "ename": "FileNotFoundError",
     "evalue": "[Errno 2] No such file or directory: './data/outfiles/ethonal.out'",
     "output_type": "error",
     "traceback": [
      "\u001b[0;31m---------------------------------------------------------------------------\u001b[0m",
      "\u001b[0;31mFileNotFoundError\u001b[0m                         Traceback (most recent call last)",
      "\u001b[0;32m<ipython-input-16-9f4690ee24ae>\u001b[0m in \u001b[0;36m<module>\u001b[0;34m()\u001b[0m\n\u001b[0;32m----> 1\u001b[0;31m \u001b[0moutfile\u001b[0m \u001b[0;34m=\u001b[0m \u001b[0mopen\u001b[0m\u001b[0;34m(\u001b[0m\u001b[0methanol_file\u001b[0m\u001b[0;34m,\u001b[0m \u001b[0;34m'r'\u001b[0m\u001b[0;34m)\u001b[0m\u001b[0;34m\u001b[0m\u001b[0;34m\u001b[0m\u001b[0m\n\u001b[0m",
      "\u001b[0;31mFileNotFoundError\u001b[0m: [Errno 2] No such file or directory: './data/outfiles/ethonal.out'"
     ]
    }
   ],
   "source": [
    "outfile = open(ethanol_file, 'r')"
   ]
  },
  {
   "cell_type": "code",
   "execution_count": 13,
   "metadata": {},
   "outputs": [
    {
     "data": {
      "text/plain": [
       "'/home/reza/Downloads/cms-workshop'"
      ]
     },
     "execution_count": 13,
     "metadata": {},
     "output_type": "execute_result"
    }
   ],
   "source": [
    "pwd"
   ]
  },
  {
   "cell_type": "code",
   "execution_count": 19,
   "metadata": {},
   "outputs": [
    {
     "name": "stdout",
     "output_type": "stream",
     "text": [
      "270\n"
     ]
    }
   ],
   "source": [
    "number_lines = len(data)\n",
    "print (number_lines)"
   ]
  },
  {
   "cell_type": "code",
   "execution_count": 20,
   "metadata": {},
   "outputs": [
    {
     "name": "stdout",
     "output_type": "stream",
     "text": [
      "  @DF-RHF Final Energy:  -154.09130176573018\n",
      "\n"
     ]
    }
   ],
   "source": [
    "for line in data:\n",
    "    if 'Final Energy' in line:\n",
    "        energy_line = line\n",
    "\n",
    "print (energy_line)"
   ]
  },
  {
   "cell_type": "code",
   "execution_count": 21,
   "metadata": {},
   "outputs": [
    {
     "name": "stdout",
     "output_type": "stream",
     "text": [
      "['@DF-RHF', 'Final', 'Energy:', '-154.09130176573018']\n"
     ]
    }
   ],
   "source": [
    "words = energy_line.split()\n",
    "print (words)"
   ]
  },
  {
   "cell_type": "code",
   "execution_count": 22,
   "metadata": {},
   "outputs": [
    {
     "name": "stdout",
     "output_type": "stream",
     "text": [
      "-154.09130176573018\n"
     ]
    }
   ],
   "source": [
    "energy = words[3]\n",
    "print (energy)"
   ]
  },
  {
   "cell_type": "code",
   "execution_count": 23,
   "metadata": {},
   "outputs": [
    {
     "ename": "TypeError",
     "evalue": "can't multiply sequence by non-int of type 'float'",
     "output_type": "error",
     "traceback": [
      "\u001b[0;31m---------------------------------------------------------------------------\u001b[0m",
      "\u001b[0;31mTypeError\u001b[0m                                 Traceback (most recent call last)",
      "\u001b[0;32m<ipython-input-23-0697e9b40c3e>\u001b[0m in \u001b[0;36m<module>\u001b[0;34m()\u001b[0m\n\u001b[0;32m----> 1\u001b[0;31m \u001b[0menergy\u001b[0m \u001b[0;34m*\u001b[0m \u001b[0;36m651.49\u001b[0m\u001b[0;34m\u001b[0m\u001b[0;34m\u001b[0m\u001b[0m\n\u001b[0m",
      "\u001b[0;31mTypeError\u001b[0m: can't multiply sequence by non-int of type 'float'"
     ]
    }
   ],
   "source": [
    "energy * 651.49"
   ]
  },
  {
   "cell_type": "code",
   "execution_count": 24,
   "metadata": {},
   "outputs": [
    {
     "data": {
      "text/plain": [
       "str"
      ]
     },
     "execution_count": 24,
     "metadata": {},
     "output_type": "execute_result"
    }
   ],
   "source": [
    "type(energy)"
   ]
  },
  {
   "cell_type": "code",
   "execution_count": 25,
   "metadata": {},
   "outputs": [],
   "source": [
    "energy = float(energy)"
   ]
  },
  {
   "cell_type": "code",
   "execution_count": 26,
   "metadata": {},
   "outputs": [
    {
     "data": {
      "text/plain": [
       "float"
      ]
     },
     "execution_count": 26,
     "metadata": {},
     "output_type": "execute_result"
    }
   ],
   "source": [
    "type(energy)"
   ]
  },
  {
   "cell_type": "code",
   "execution_count": 27,
   "metadata": {},
   "outputs": [],
   "source": [
    "energy = float(words[3])"
   ]
  },
  {
   "cell_type": "markdown",
   "metadata": {},
   "source": [
    "# Multiple File Parsing"
   ]
  },
  {
   "cell_type": "code",
   "execution_count": 29,
   "metadata": {},
   "outputs": [
    {
     "name": "stdout",
     "output_type": "stream",
     "text": [
      "data/outfiles/*.out\n"
     ]
    }
   ],
   "source": [
    "file_location = os.path.join('data','outfiles', '*.out')\n",
    "print (file_location)"
   ]
  },
  {
   "cell_type": "code",
   "execution_count": 30,
   "metadata": {},
   "outputs": [
    {
     "name": "stdout",
     "output_type": "stream",
     "text": [
      "data/outfiles/*.out\n"
     ]
    }
   ],
   "source": [
    "print (file_location)"
   ]
  },
  {
   "cell_type": "code",
   "execution_count": 31,
   "metadata": {},
   "outputs": [],
   "source": [
    "import glob"
   ]
  },
  {
   "cell_type": "code",
   "execution_count": 32,
   "metadata": {},
   "outputs": [
    {
     "name": "stdout",
     "output_type": "stream",
     "text": [
      "[]\n"
     ]
    }
   ],
   "source": [
    "filenames = glob.glob(file_location)\n",
    "print (filenames)"
   ]
  },
  {
   "cell_type": "code",
   "execution_count": 33,
   "metadata": {},
   "outputs": [
    {
     "data": {
      "text/plain": [
       "'/home/reza/Downloads/cms-workshop/data/outfiles'"
      ]
     },
     "execution_count": 33,
     "metadata": {},
     "output_type": "execute_result"
    }
   ],
   "source": [
    "pwd"
   ]
  },
  {
   "cell_type": "code",
   "execution_count": 34,
   "metadata": {},
   "outputs": [
    {
     "name": "stdout",
     "output_type": "stream",
     "text": [
      "total 160\r\n",
      "-rw-r--r-- 1 reza reza 11710 Jan 18  2019 propanol.out\r\n",
      "-rw-r--r-- 1 reza reza 13762 Jan 18  2019 pentanol.out\r\n",
      "-rw-r--r-- 1 reza reza 16788 Jan 18  2019 octanol.out\r\n",
      "-rw-r--r-- 1 reza reza 17727 Jan 18  2019 nonanol.out\r\n",
      "-rw-r--r-- 1 reza reza  9719 Jan 18  2019 methanol.out\r\n",
      "-rw-r--r-- 1 reza reza 14767 Jan 18  2019 hexanol.out\r\n",
      "-rw-r--r-- 1 reza reza 15770 Jan 18  2019 heptanol.out\r\n",
      "-rw-r--r-- 1 reza reza 10639 Jan 18  2019 ethanol.out\r\n",
      "-rw-r--r-- 1 reza reza 18728 Jan 18  2019 decanol.out\r\n",
      "-rw-r--r-- 1 reza reza 12750 Jan 18  2019 butanol.out\r\n"
     ]
    }
   ],
   "source": [
    "ls -ltr"
   ]
  },
  {
   "cell_type": "code",
   "execution_count": 35,
   "metadata": {},
   "outputs": [
    {
     "name": "stdout",
     "output_type": "stream",
     "text": [
      "butanol.out  ethanol.out   hexanol.out   nonanol.out  pentanol.out\r\n",
      "decanol.out  heptanol.out  methanol.out  octanol.out  propanol.out\r\n"
     ]
    }
   ],
   "source": [
    "ls"
   ]
  },
  {
   "cell_type": "code",
   "execution_count": 36,
   "metadata": {},
   "outputs": [],
   "source": [
    "filenames = glob.glob('*.out')"
   ]
  },
  {
   "cell_type": "code",
   "execution_count": 37,
   "metadata": {},
   "outputs": [
    {
     "name": "stdout",
     "output_type": "stream",
     "text": [
      "['hexanol.out', 'heptanol.out', 'pentanol.out', 'decanol.out', 'octanol.out', 'ethanol.out', 'butanol.out', 'nonanol.out', 'methanol.out', 'propanol.out']\n"
     ]
    }
   ],
   "source": [
    "print (filenames)"
   ]
  },
  {
   "cell_type": "code",
   "execution_count": 39,
   "metadata": {},
   "outputs": [
    {
     "name": "stdout",
     "output_type": "stream",
     "text": [
      "-310.2385332251633\n",
      "-349.27397687072676\n",
      "-271.20138119895074\n",
      "-466.3836241400086\n",
      "-388.3110864554743\n",
      "-154.09130176573018\n",
      "-232.1655798347283\n",
      "-427.3465180082815\n",
      "-115.04800861868374\n",
      "-193.12836249728798\n"
     ]
    }
   ],
   "source": [
    "for file in filenames:\n",
    "    outfile = open(file, 'r')\n",
    "    data = outfile.readlines()\n",
    "    outfile.close()\n",
    "    for line in data:\n",
    "        if 'Final Energy' in line:\n",
    "            energy_line = line\n",
    "            words = energy_line.split()\n",
    "            energy = float(words[3])\n",
    "            print (energy)"
   ]
  },
  {
   "cell_type": "code",
   "execution_count": 40,
   "metadata": {},
   "outputs": [
    {
     "name": "stdout",
     "output_type": "stream",
     "text": [
      "hexanol.out\n"
     ]
    }
   ],
   "source": [
    "first_file = filenames[0]\n",
    "print (first_file)"
   ]
  },
  {
   "cell_type": "code",
   "execution_count": 41,
   "metadata": {},
   "outputs": [],
   "source": [
    "file_name = os.path.basename(first_file)"
   ]
  },
  {
   "cell_type": "code",
   "execution_count": 42,
   "metadata": {},
   "outputs": [
    {
     "name": "stdout",
     "output_type": "stream",
     "text": [
      "hexanol.out\n"
     ]
    }
   ],
   "source": [
    "print (file_name)"
   ]
  },
  {
   "cell_type": "code",
   "execution_count": 43,
   "metadata": {},
   "outputs": [
    {
     "name": "stdout",
     "output_type": "stream",
     "text": [
      "['hexanol', 'out']\n"
     ]
    }
   ],
   "source": [
    "#extract just molecule name\n",
    "split_filename = file_name.split('.')\n",
    "print (split_filename)"
   ]
  },
  {
   "cell_type": "code",
   "execution_count": 44,
   "metadata": {},
   "outputs": [
    {
     "name": "stdout",
     "output_type": "stream",
     "text": [
      "hexanol\n"
     ]
    }
   ],
   "source": [
    "molecule_name = split_filename[0]\n",
    "print (molecule_name)"
   ]
  },
  {
   "cell_type": "code",
   "execution_count": 45,
   "metadata": {},
   "outputs": [
    {
     "name": "stdout",
     "output_type": "stream",
     "text": [
      "hexanol -310.2385332251633\n",
      "heptanol -349.27397687072676\n",
      "pentanol -271.20138119895074\n",
      "decanol -466.3836241400086\n",
      "octanol -388.3110864554743\n",
      "ethanol -154.09130176573018\n",
      "butanol -232.1655798347283\n",
      "nonanol -427.3465180082815\n",
      "methanol -115.04800861868374\n",
      "propanol -193.12836249728798\n"
     ]
    }
   ],
   "source": [
    "for file in filenames:\n",
    "    #Get molecule name\n",
    "    file_name = os.path.basename(file)\n",
    "    split_filename = file_name.split('.')\n",
    "    molecule_name = split_filename[0]\n",
    "    \n",
    "    #Read data \n",
    "    outfile = open(file, 'r')\n",
    "    data = outfile.readlines()\n",
    "    outfile.close()\n",
    "    \n",
    "    #Looks through the file\n",
    "    for line in data:\n",
    "        if 'Final Energy' in line:\n",
    "            energy_line = line\n",
    "            words = energy_line.split()\n",
    "            energy = float(words[3])\n",
    "            print (molecule_name, energy)"
   ]
  },
  {
   "cell_type": "code",
   "execution_count": 50,
   "metadata": {},
   "outputs": [],
   "source": [
    "datafile = open('energies.txt', 'w+')#This opens the file for writing\n",
    "for file in filenames:\n",
    "    #Get molecule name\n",
    "    file_name = os.path.basename(file)\n",
    "    split_filename = file_name.split('.')\n",
    "    molecule_name = split_filename[0]\n",
    "    \n",
    "    #Read data \n",
    "    outfile = open(file, 'r')\n",
    "    data = outfile.readlines()\n",
    "    outfile.close()\n",
    "    \n",
    "    #Looks through the file\n",
    "    for line in data:\n",
    "        if 'Final Energy' in line:\n",
    "            energy_line = line\n",
    "            words = energy_line.split()\n",
    "            energy = float(words[3])\n",
    "            datafile.write(F'{molecule_name} \\t {energy} \\n')\n",
    "            \n",
    "datafile.close()"
   ]
  },
  {
   "cell_type": "code",
   "execution_count": 47,
   "metadata": {},
   "outputs": [
    {
     "name": "stdout",
     "output_type": "stream",
     "text": [
      "butanol.out   ethanol.out   methanol.out  pentanol.out\r\n",
      "decanol.out   heptanol.out  nonanol.out   propanol.out\r\n",
      "energies.txt  hexanol.out   octanol.out\r\n"
     ]
    }
   ],
   "source": [
    "ls"
   ]
  },
  {
   "cell_type": "code",
   "execution_count": 48,
   "metadata": {},
   "outputs": [
    {
     "ename": "SyntaxError",
     "evalue": "invalid syntax (<ipython-input-48-5d5fdd39509b>, line 1)",
     "output_type": "error",
     "traceback": [
      "\u001b[0;36m  File \u001b[0;32m\"<ipython-input-48-5d5fdd39509b>\"\u001b[0;36m, line \u001b[0;32m1\u001b[0m\n\u001b[0;31m    vim energies.txt\u001b[0m\n\u001b[0m               ^\u001b[0m\n\u001b[0;31mSyntaxError\u001b[0m\u001b[0;31m:\u001b[0m invalid syntax\n"
     ]
    }
   ],
   "source": [
    "vim energies.txt"
   ]
  },
  {
   "cell_type": "code",
   "execution_count": 51,
   "metadata": {},
   "outputs": [
    {
     "name": "stdout",
     "output_type": "stream",
     "text": [
      "hexanol \t -310.2385332251633 \r\n",
      "heptanol \t -349.27397687072676 \r\n",
      "pentanol \t -271.20138119895074 \r\n",
      "decanol \t -466.3836241400086 \r\n",
      "octanol \t -388.3110864554743 \r\n",
      "ethanol \t -154.09130176573018 \r\n",
      "butanol \t -232.1655798347283 \r\n",
      "nonanol \t -427.3465180082815 \r\n",
      "methanol \t -115.04800861868374 \r\n",
      "propanol \t -193.12836249728798 \r\n"
     ]
    }
   ],
   "source": [
    "cat energies.txt"
   ]
  },
  {
   "cell_type": "code",
   "execution_count": null,
   "metadata": {},
   "outputs": [],
   "source": []
  }
 ],
 "metadata": {
  "kernelspec": {
   "display_name": "Python 3",
   "language": "python",
   "name": "python3"
  },
  "language_info": {
   "codemirror_mode": {
    "name": "ipython",
    "version": 3
   },
   "file_extension": ".py",
   "mimetype": "text/x-python",
   "name": "python",
   "nbconvert_exporter": "python",
   "pygments_lexer": "ipython3",
   "version": "3.6.9"
  }
 },
 "nbformat": 4,
 "nbformat_minor": 2
}
